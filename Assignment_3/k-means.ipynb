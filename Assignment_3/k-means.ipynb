{
 "cells": [
  {
   "cell_type": "code",
   "execution_count": 6,
   "metadata": {},
   "outputs": [
    {
     "name": "stdout",
     "output_type": "stream",
     "text": [
      "10000 2\n"
     ]
    }
   ],
   "source": [
    "import tensorflow as tf\n",
    "import numpy as np\n",
    "import matplotlib.pyplot as plt\n",
    "import helper as hlp\n",
    "\n",
    "# Loading data\n",
    "data = np.load('data2D.npy')\n",
    "#data = np.load('data100D.npy')\n",
    "[num_pts, dim] = np.shape(data)\n",
    "\n",
    "# For Validation set\n",
    "valid_batch = int(num_pts / 3.0)\n",
    "np.random.seed(45689)\n",
    "rnd_idx = np.arange(num_pts)\n",
    "np.random.shuffle(rnd_idx)\n",
    "val_data = data[rnd_idx[:valid_batch]]\n",
    "data = data[rnd_idx[valid_batch:]]\n",
    "\n",
    "print (num_pts, dim)"
   ]
  },
  {
   "cell_type": "code",
   "execution_count": 5,
   "metadata": {},
   "outputs": [
    {
     "name": "stdout",
     "output_type": "stream",
     "text": [
      "valid_batch\n",
      "3333\n",
      "rnd_idx\n",
      "[2651 6985 1054 ... 2427 4269 2275]\n",
      "val_data\n",
      "[[ 1.25852288  0.06022857]\n",
      " [ 0.92050755 -1.35582494]\n",
      " [ 1.68880499  0.19383041]\n",
      " ...\n",
      " [-0.39069652 -0.73439272]\n",
      " [-1.06336658 -3.17085342]\n",
      " [ 1.48777099  0.05273467]]\n",
      "data\n",
      "[[-1.29816288 -3.26433091]\n",
      " [-1.14550332 -3.23405831]\n",
      " [-0.58079709 -3.71435242]\n",
      " ...\n",
      " [ 1.89505235 -1.11184279]\n",
      " [ 1.55736498  0.01002898]\n",
      " [ 0.62464409 -1.02498467]]\n"
     ]
    }
   ],
   "source": [
    "print (\"valid_batch\")\n",
    "print (valid_batch)\n",
    "print (\"rnd_idx\")\n",
    "print (rnd_idx)\n",
    "print (\"val_data\")\n",
    "print (val_data)\n",
    "print (\"data\")\n",
    "print (data)"
   ]
  },
  {
   "cell_type": "code",
   "execution_count": null,
   "metadata": {},
   "outputs": [],
   "source": [
    "# Distance function for K-means\n",
    "def distanceFunc(X, MU):\n",
    "    # Inputs\n",
    "    # X: is an NxD matrix (N observations and D dimensions)\n",
    "    # MU: is an KxD matrix (K means and D dimensions)\n",
    "    # Outputs\n",
    "    # pair_dist: is the pairwise distance matrix (NxK)\n",
    "    # TODO\n",
    "    tf.reduce_sum(tf.square(tf.sub(X,MU)),2)"
   ]
  },
  {
   "cell_type": "code",
   "execution_count": 2,
   "metadata": {},
   "outputs": [
    {
     "ename": "SyntaxError",
     "evalue": "unexpected EOF while parsing (<ipython-input-2-3fcec64cee8d>, line 1)",
     "output_type": "error",
     "traceback": [
      "\u001b[0;36m  File \u001b[0;32m\"<ipython-input-2-3fcec64cee8d>\"\u001b[0;36m, line \u001b[0;32m1\u001b[0m\n\u001b[0;31m    def k_means():\u001b[0m\n\u001b[0m                  ^\u001b[0m\n\u001b[0;31mSyntaxError\u001b[0m\u001b[0;31m:\u001b[0m unexpected EOF while parsing\n"
     ]
    }
   ],
   "source": [
    "def k_means():\n",
    "    assignments = tf.argmin(distances,0)"
   ]
  },
  {
   "cell_type": "code",
   "execution_count": null,
   "metadata": {},
   "outputs": [],
   "source": []
  }
 ],
 "metadata": {
  "kernelspec": {
   "display_name": "Python 3",
   "language": "python",
   "name": "python3"
  },
  "language_info": {
   "codemirror_mode": {
    "name": "ipython",
    "version": 3
   },
   "file_extension": ".py",
   "mimetype": "text/x-python",
   "name": "python",
   "nbconvert_exporter": "python",
   "pygments_lexer": "ipython3",
   "version": "3.6.5"
  }
 },
 "nbformat": 4,
 "nbformat_minor": 2
}
